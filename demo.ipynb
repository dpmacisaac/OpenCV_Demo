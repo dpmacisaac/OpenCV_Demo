{
 "cells": [
  {
   "attachments": {},
   "cell_type": "markdown",
   "metadata": {},
   "source": [
    "### Flickr API and OpenCV Demo"
   ]
  },
  {
   "cell_type": "code",
   "execution_count": null,
   "metadata": {
    "vscode": {
     "languageId": "plaintext"
    }
   },
   "outputs": [],
   "source": [
    "Getting a Flickr API key:\n",
    "1. https://www.flickr.com/services/apps/create/\n",
    "2. press \"Request an API Key\"\n",
    "3. Sign in\n",
    "4. \"Apply for non-commercial key\"\n",
    "5. Give it a name a description (Demo for educational purposes)\n",
    "6. Submit!\n",
    "\n",
    "You now have a Flickr API Key! Go ahead and store that in a json or in demo.ipynb\n"
   ]
  }
 ],
 "metadata": {
  "language_info": {
   "name": "python"
  },
  "orig_nbformat": 4
 },
 "nbformat": 4,
 "nbformat_minor": 2
}
